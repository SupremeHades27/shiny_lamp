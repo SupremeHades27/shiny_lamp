version https://git-lfs.github.com/spec/v1
oid sha256:bd6439fb1edee061710906e38b7f157cf3d4d1d2ecfdaf4c55740ca5070fa116
size 385227
