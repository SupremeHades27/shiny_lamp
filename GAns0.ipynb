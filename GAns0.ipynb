version https://git-lfs.github.com/spec/v1
oid sha256:520e578138719e4e85f0f99fe4ff940f6520ea5e1804a672870b63537a5b9cf3
size 98675
